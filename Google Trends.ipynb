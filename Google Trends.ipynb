{
 "cells": [
  {
   "cell_type": "code",
   "execution_count": 1,
   "metadata": {},
   "outputs": [],
   "source": [
    "import pandas as pd\n",
    "import numpy as np\n",
    "from pandas import DataFrame, Series\n",
    "from pandas import ExcelWriter\n",
    "\n",
    "import time, os, sys\n",
    "\n",
    "# Selenium\n",
    "import selenium\n",
    "from selenium import webdriver\n",
    "from selenium.webdriver.common.keys import Keys\n",
    "\n",
    "pd.options.display.max_columns = 999\n",
    "pd.options.display.max_rows = 60\n",
    "pd.options.display.max_info_rows = 60"
   ]
  },
  {
   "cell_type": "code",
   "execution_count": null,
   "metadata": {},
   "outputs": [],
   "source": [
    "# JSON file of countries\n",
    "from gtrends import *"
   ]
  },
  {
   "cell_type": "code",
   "execution_count": null,
   "metadata": {},
   "outputs": [],
   "source": [
    "options = webdriver.ChromeOptions()\n",
    "\n",
    "# Change default download directory to store downloaded files:\n",
    "prefs = {'download.default_directory' : 'C:/gtrends_files/'}\n",
    "options.add_experimental_option('prefs', prefs)\n",
    "options.add_argument(\"--lang=es\")\n",
    "capabilities = options.to_capabilities()"
   ]
  },
  {
   "cell_type": "code",
   "execution_count": null,
   "metadata": {},
   "outputs": [],
   "source": [
    "BASE_URL = 'https://trends.google.com/trends/'\n",
    "FILES_LOCATION = 'C:/gtrends_files/'"
   ]
  },
  {
   "cell_type": "code",
   "execution_count": null,
   "metadata": {},
   "outputs": [],
   "source": [
    "# Run Chrome\n",
    "driver = webdriver.Chrome(desired_capabilities=capabilities)"
   ]
  },
  {
   "cell_type": "code",
   "execution_count": null,
   "metadata": {},
   "outputs": [],
   "source": [
    "# Set geography\n",
    "geo = 'geo='\n",
    "\n",
    "# Explore trends (Default 12 months time-frame)\n",
    "query_term = 'explore?q='\n",
    "\n",
    "# XPath items\n",
    "export_button = 'widget-actions-item export'"
   ]
  },
  {
   "cell_type": "code",
   "execution_count": null,
   "metadata": {},
   "outputs": [],
   "source": [
    "def genExcel(fileName, frames):\n",
    "    dumpExcel = ExcelWriter( str(fileName) + '.xlsx', options={'strings_to_urls': False} )\n",
    "    for frame in frames:\n",
    "        frame[0].to_excel(dumpExcel, frame[1])\n",
    "    dumpExcel.save()\n",
    "    \n",
    "    \n",
    "def query_term_geo(driver, geography, term, timeframe=''):\n",
    "    # Usage: \n",
    "    # query_term_geo(driver=driver, geography='Peru', term='seguridad informatica', timeframe='')\n",
    "    #\n",
    "    \n",
    "    # First usage always return error 429\n",
    "    driver.get( BASE_URL)\n",
    "    if timeframe == '':\n",
    "        driver.get( BASE_URL + query_term + term + '&' + geo + Countries_en[geography] )\n",
    "    else:\n",
    "        driver.get( BASE_URL + query_term + term + '&' + geo + Countries_en[geography] + '&' + timeframe)\n",
    "\n",
    "    time.sleep(4)\n",
    "    driver.switch_to.window(driver.current_window_handle)\n",
    "    time.sleep(5)\n",
    "    download_btn = driver.find_elements_by_xpath('//button[@class=\"{}\"]'.format(export_button))\n",
    "    download_btn[1].click()\n",
    "    while os.path.isfile(FILES_LOCATION + 'geoMap.csv') == False:\n",
    "        time.sleep(3)\n",
    "    geo_df = pd.read_csv(FILES_LOCATION + 'geoMap.csv', header=1)\n",
    "    geo_df.columns = ['Region', term]\n",
    "    os.remove(FILES_LOCATION + 'geoMap.csv')\n",
    "    \n",
    "    return geo_df\n",
    "\n",
    "\n",
    "def multiSearch_term(search_list, delay, geography, csv=False, fileName=''):\n",
    "    dfs = query_term_geo(driver=driver, geography=geography, term=search_list[0], timeframe='')\n",
    "    print('Term search: {} ok'.format(search_list[0]))\n",
    "    for term in search_list[1:]:\n",
    "        dfs = dfs.merge(query_term_geo(driver=driver, geography=geography, term=term, timeframe=''), on='Region', how='left')\n",
    "        time.sleep(delay)\n",
    "        print('Term search: {} ok'.format(term))\n",
    "    if csv:\n",
    "        if fileName == '': fileName = 'list_' + time.strftime(\"%Y-%m-%d_%H\", time.gmtime())\n",
    "        dfs.to_csv(path_or_buf=FILES_LOCATION + fileName + '.csv', encoding='iso-8859-1')\n",
    "        print('New file created in {}'.format(FILES_LOCATION))\n",
    "    return dfs\n",
    "\n",
    "\n",
    "def multiSearch_country(search_list, delay, countries, suffix_file):\n",
    "    for country in countries:\n",
    "        print('Current country: {}'.format(country))\n",
    "        multiSearch_term(search_list=search_list, delay=delay, geography=country, csv=True, fileName=country + suffix_file)\n",
    "        time.sleep(5)\n",
    "        print('Ok {}'.format(country))\n",
    "    print('All countries downloaded!')"
   ]
  },
  {
   "cell_type": "code",
   "execution_count": null,
   "metadata": {},
   "outputs": [],
   "source": [
    "# Example:\n",
    "mobility_list = ['movilidad', 'laptop', 'ultraslim', 'notebook', 'mobile apps', 'smartphone', 'tablet']\n",
    "\n",
    "multiSearch_country(search_list=mobility_list, delay=20, countries=['Argentina', 'Chile', 'Colombia', \n",
    "                                                                    'Mexico', 'Brazil', 'Peru'], suffix_file='_mobility')"
   ]
  }
 ],
 "metadata": {
  "kernelspec": {
   "display_name": "Python 3",
   "language": "python",
   "name": "python3"
  },
  "language_info": {
   "codemirror_mode": {
    "name": "ipython",
    "version": 3
   },
   "file_extension": ".py",
   "mimetype": "text/x-python",
   "name": "python",
   "nbconvert_exporter": "python",
   "pygments_lexer": "ipython3",
   "version": "3.6.8"
  }
 },
 "nbformat": 4,
 "nbformat_minor": 2
}
